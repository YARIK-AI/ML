{
 "cells": [
  {
   "attachments": {},
   "cell_type": "markdown",
   "metadata": {},
   "source": [
    "Пример удаления базы данных"
   ]
  },
  {
   "cell_type": "code",
   "execution_count": null,
   "metadata": {},
   "outputs": [],
   "source": [
    "import psycopg2\n",
    "import os"
   ]
  },
  {
   "cell_type": "code",
   "execution_count": null,
   "metadata": {},
   "outputs": [],
   "source": [
    "# подключение к системной базе данных\n",
    "HOST=os.environ['GREENPLUM_HOST']\n",
    "PORT=os.environ['GREENPLUM_PORT']\n",
    "DATABASE='postgres'\n",
    "#SCHAMA=os.environ['GREENPLUM_SCHEMA']\n",
    "LOGIN=os.environ['GREENPLUM_LOGIN']\n",
    "PASSWORD=os.environ['GREENPLUM_PASSWORD']\n",
    "\n",
    "connection = psycopg2.connect( host=HOST, port=PORT, database=DATABASE, user=LOGIN, password=PASSWORD)\n"
   ]
  },
  {
   "cell_type": "code",
   "execution_count": null,
   "metadata": {},
   "outputs": [],
   "source": [
    "# имя базы данных\n",
    "database_name = os.environ['GREENPLUM_DATABASE']"
   ]
  },
  {
   "cell_type": "code",
   "execution_count": null,
   "metadata": {},
   "outputs": [],
   "source": [
    "\n",
    "# проверка наличий базы данных\n",
    "sql = f\"\"\"\n",
    "     select count(*) as cnt FROM pg_database WHERE datname = '{database_name}'\n",
    "\"\"\"\n",
    "cur = connection.cursor()\n",
    "cur.execute(sql)\n",
    "exist = (cur.fetchone())[0]\n",
    "print('exist =',exist)\n",
    "connection.commit()\n",
    "cur.close()\n"
   ]
  },
  {
   "cell_type": "code",
   "execution_count": null,
   "metadata": {},
   "outputs": [],
   "source": [
    "# удаление базы данных\n",
    "if not exist:\n",
    "    print('база даных не существует')\n",
    "else:\n",
    "    sql = f\"\"\"\n",
    "     drop database {database_name}\n",
    "    \"\"\"\n",
    "    connection.autocommit = True\n",
    "    cur = connection.cursor()\n",
    "    cur.execute(sql)\n",
    "    cur.close()"
   ]
  },
  {
   "cell_type": "code",
   "execution_count": null,
   "metadata": {},
   "outputs": [],
   "source": [
    "connection.close()"
   ]
  }
 ],
 "metadata": {
  "kernelspec": {
   "display_name": "Python 3 (ipykernel)",
   "language": "python",
   "name": "python3"
  },
  "language_info": {
   "codemirror_mode": {
    "name": "ipython",
    "version": 3
   },
   "file_extension": ".py",
   "mimetype": "text/x-python",
   "name": "python",
   "nbconvert_exporter": "python",
   "pygments_lexer": "ipython3",
   "version": "3.11.4"
  },
  "orig_nbformat": 4
 },
 "nbformat": 4,
 "nbformat_minor": 2
}
