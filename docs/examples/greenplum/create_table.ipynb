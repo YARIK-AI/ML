{
 "cells": [
  {
   "attachments": {},
   "cell_type": "markdown",
   "metadata": {},
   "source": [
    "Пример создания таблицы"
   ]
  },
  {
   "cell_type": "code",
   "execution_count": 4,
   "metadata": {},
   "outputs": [],
   "source": [
    "import psycopg2\n",
    "import os"
   ]
  },
  {
   "cell_type": "code",
   "execution_count": 5,
   "metadata": {},
   "outputs": [],
   "source": [
    "# подключение к базе данных\n",
    "HOST=os.environ['GREENPLUM_HOST']\n",
    "PORT=os.environ['GREENPLUM_PORT']\n",
    "DATABASE=os.environ['GREENPLUM_DATABASE']\n",
    "SCHEMA = os.environ['GREENPLUM_SCHEMA']\n",
    "LOGIN=os.environ['GREENPLUM_LOGIN']\n",
    "PASSWORD=os.environ['GREENPLUM_PASSWORD']\n",
    "\n",
    "connection = psycopg2.connect( host=HOST, port=PORT, database=DATABASE, user=LOGIN, password=PASSWORD)"
   ]
  },
  {
   "cell_type": "code",
   "execution_count": 6,
   "metadata": {},
   "outputs": [],
   "source": [
    "# необходимо убедиться, что схема создана\n",
    "sql = f\"\"\"\n",
    "     create schema if not exists {SCHEMA}\n",
    "\"\"\"\n",
    "cur = connection.cursor()\n",
    "cur.execute(sql)\n",
    "connection.commit()\n",
    "cur.close()"
   ]
  },
  {
   "cell_type": "code",
   "execution_count": 7,
   "metadata": {},
   "outputs": [],
   "source": [
    "# создание базы данных\n",
    "tableName = 'table1'\n",
    "sql = f\"\"\"\n",
    "     create table {SCHEMA}.{tableName}\n",
    "     (\n",
    "     c1 int,\n",
    "     c2 float,\n",
    "     c3 varchar\n",
    "     )\n",
    "\"\"\"\n",
    "cur = connection.cursor()\n",
    "cur.execute(sql)\n",
    "connection.commit()\n",
    "cur.close()"
   ]
  },
  {
   "cell_type": "code",
   "execution_count": null,
   "metadata": {},
   "outputs": [],
   "source": [
    "# создание индекса\n",
    "createIndexSQL = f'''CREATE INDEX {tableName}_idx ON {SCHEMA}.{tableName} (c1)'''\n",
    "try:\n",
    "    cur = connection.cursor()\n",
    "    cur.execute(createIndexSQL)\n",
    "    connection.commit()\n",
    "except Exception as e: \n",
    "    print(e)\n",
    "finally:\n",
    "    cur.close()"
   ]
  },
  {
   "cell_type": "code",
   "execution_count": 8,
   "metadata": {},
   "outputs": [],
   "source": [
    "connection.close()"
   ]
  }
 ],
 "metadata": {
  "kernelspec": {
   "display_name": "Python 3 (ipykernel)",
   "language": "python",
   "name": "python3"
  },
  "orig_nbformat": 4
 },
 "nbformat": 4,
 "nbformat_minor": 2
}
