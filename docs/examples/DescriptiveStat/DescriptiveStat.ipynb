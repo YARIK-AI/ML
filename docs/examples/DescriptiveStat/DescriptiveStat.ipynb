{
 "cells": [
  {
   "attachments": {},
   "cell_type": "markdown",
   "metadata": {},
   "source": [
    "## Необходимые библиотеки"
   ]
  },
  {
   "cell_type": "code",
   "execution_count": null,
   "metadata": {},
   "outputs": [
    {
     "ename": "",
     "evalue": "",
     "output_type": "error",
     "traceback": [
      "\u001b[1;31mFailed to connect to the remote Jupyter Server 'http://localhost:31188/'. Verify the server is running and reachable. (Failed to connect to the remote Jupyter Server 'http://localhost:31188/'. Verify the server is running and reachable. (request to http://localhost:31188/jupyter/api/kernels?1690211109862 failed, reason: connect ECONNREFUSED 127.0.0.1:31188).)."
     ]
    }
   ],
   "source": [
    "import numpy as np\n",
    "import seaborn as sns #надо установить pip3 install seaborn\n",
    "import pyarrow.parquet as pq\n",
    "from sklearn.preprocessing import LabelEncoder\n",
    "\n",
    "import os\n",
    "import boto3"
   ]
  },
  {
   "attachments": {},
   "cell_type": "markdown",
   "metadata": {},
   "source": [
    "## Загрузка данных"
   ]
  },
  {
   "cell_type": "code",
   "execution_count": null,
   "metadata": {},
   "outputs": [],
   "source": [
    "bucket_name = 'mldata'\n",
    "\n",
    "# адрес сервера, логин и пароль беруться из пременных окружения \n",
    "# переменные окружения уже установлены AWS_ENDPOINT_URL, AWS_ACCESS_KEY_ID, AWS_SECRET_ACCESS_KEY\n",
    "s3_target = boto3.resource('s3', \n",
    "    endpoint_url=os.environ[\"AWS_ENDPOINT_URL\"],\n",
    "    aws_access_key_id=os.environ[\"AWS_ACCESS_KEY_ID\"],\n",
    "    aws_secret_access_key=os.environ[\"AWS_SECRET_ACCESS_KEY\"],\n",
    "    aws_session_token=None,\n",
    "    config=boto3.session.Config(signature_version='s3v4'),\n",
    "    verify=False\n",
    ")\n",
    "\n",
    "# создание корзины\n",
    "s3_target.create_bucket(Bucket=bucket_name)"
   ]
  },
  {
   "cell_type": "code",
   "execution_count": null,
   "metadata": {},
   "outputs": [],
   "source": [
    "train_file = 'input_train.parquet'\n",
    "# чтение файла с s3 файла train_file в локальный файл /tmp/data.parquet\n",
    "s3_target.Bucket(bucket_name).download_file(train_file, '/tmp/data.parquet')\n"
   ]
  },
  {
   "cell_type": "code",
   "execution_count": null,
   "metadata": {},
   "outputs": [],
   "source": [
    "train_file = '/tmp/data.parquet'\n",
    "df=pq.read_table(train_file)\n",
    "df=df.to_pandas()"
   ]
  },
  {
   "attachments": {},
   "cell_type": "markdown",
   "metadata": {},
   "source": [
    "## Типы данных\n",
    "Есть столбец с типом datetime, object и с численными значениями"
   ]
  },
  {
   "cell_type": "code",
   "execution_count": null,
   "metadata": {},
   "outputs": [],
   "source": [
    "df.dtypes"
   ]
  },
  {
   "cell_type": "markdown",
   "metadata": {},
   "source": [
    "Посмотрим на данные в наборе данных:"
   ]
  },
  {
   "cell_type": "code",
   "execution_count": null,
   "metadata": {},
   "outputs": [],
   "source": [
    "df.head()"
   ]
  },
  {
   "cell_type": "markdown",
   "metadata": {},
   "source": [
    "Определим размер набора данных"
   ]
  },
  {
   "cell_type": "code",
   "execution_count": null,
   "metadata": {},
   "outputs": [],
   "source": [
    "df.shape"
   ]
  },
  {
   "attachments": {},
   "cell_type": "markdown",
   "metadata": {},
   "source": [
    "## Кодировка данных\n",
    "Закодриуем src_ip"
   ]
  },
  {
   "cell_type": "code",
   "execution_count": null,
   "metadata": {},
   "outputs": [],
   "source": [
    "labelencoder = LabelEncoder()\n",
    "df['src_ip_id'] = labelencoder.fit_transform(df['src_ip'])"
   ]
  },
  {
   "attachments": {},
   "cell_type": "markdown",
   "metadata": {},
   "source": [
    "## Основные статистические характеристики набора данных:\n",
    "\n",
    "Для категориальных признаков этот метод показывает: \n",
    "\n",
    "    - unique количество уникальных значений;\n",
    "    - top значения;\n",
    "    - freq - частота появления значений.\n",
    "\n",
    "Для численных значений этот метод показывает:\n",
    "\n",
    "    - count количество строк в столбце;\n",
    "    - mean среднее значение столбца;\n",
    "    - std стандартное отклонение;\n",
    "    - min/max минимальные и максимальные значения;\n",
    "    - 25%, 50% и 75% граница каждого квартиля. \n",
    "    "
   ]
  },
  {
   "cell_type": "code",
   "execution_count": null,
   "metadata": {},
   "outputs": [],
   "source": [
    "df.describe(include = \"all\")"
   ]
  },
  {
   "cell_type": "markdown",
   "metadata": {},
   "source": [
    "Для дискретных значений как день недели, день месяца, час, такой показатель как среднее значение мало информативен. Для этого вычислим такие показатели как медиана (серединное значение) и мода (часто встречающеся значение)"
   ]
  },
  {
   "cell_type": "markdown",
   "metadata": {},
   "source": [
    "Медиана\n",
    "\n",
    "Для daymonth, dayweek, hour и src_ip_id медиана вышла приблизительно в середине допустимых значений. Тогда как для dst_cnt половина значений в датасете приходятся на количество соединений от 1 до 2\n"
   ]
  },
  {
   "cell_type": "code",
   "execution_count": null,
   "metadata": {},
   "outputs": [],
   "source": [
    "df[['daymonth','dayweek','hour','dst_cnt','src_ip_id']].median()"
   ]
  },
  {
   "cell_type": "markdown",
   "metadata": {},
   "source": [
    "Мода\n",
    "\n",
    "И здесь также видно, что чаще всего встречается значение для dst_cnt=1"
   ]
  },
  {
   "cell_type": "code",
   "execution_count": null,
   "metadata": {},
   "outputs": [],
   "source": [
    "df[['daymonth','dayweek','hour','dst_cnt','src_ip_id']].mode()"
   ]
  },
  {
   "attachments": {},
   "cell_type": "markdown",
   "metadata": {},
   "source": [
    "Проверим уникальность данных"
   ]
  },
  {
   "cell_type": "code",
   "execution_count": null,
   "metadata": {},
   "outputs": [],
   "source": [
    "key = df.columns\n",
    "\n",
    "df_dedupped2 = df.drop_duplicates(subset=key)\n",
    "\n",
    "print('Кол-во значений ',df.shape[0])\n",
    "print('Кол-во уникальных значений ',df_dedupped2.shape[0])"
   ]
  },
  {
   "attachments": {},
   "cell_type": "markdown",
   "metadata": {},
   "source": [
    "Проверим пустые значения"
   ]
  },
  {
   "cell_type": "code",
   "execution_count": null,
   "metadata": {},
   "outputs": [],
   "source": [
    "# определяем цвета \n",
    "# желтый - пропущенные данные, синий - не пропущенные\n",
    "df.isnull().sum()\n",
    "colours = ['#000099', '#ffff00'] \n",
    "sns.heatmap(df.isnull(), cmap=sns.color_palette(colours))\n",
    "for col in df.columns:\n",
    "    pct_missing = np.mean(df[col].isnull())\n",
    "    print('{} - {}%'.format(col, round(pct_missing*100)))"
   ]
  },
  {
   "attachments": {},
   "cell_type": "markdown",
   "metadata": {},
   "source": [
    "## Визуальное исследование датасета"
   ]
  },
  {
   "attachments": {},
   "cell_type": "markdown",
   "metadata": {},
   "source": [
    "Оценим распределение признаков"
   ]
  },
  {
   "attachments": {},
   "cell_type": "markdown",
   "metadata": {},
   "source": [
    "Интерпретация результатов:\n",
    "1) dst_cnt - как и показали ранее значения медианы и моды, большой перевес в значениях 1 и 2.\n",
    "2) daymonth - ожидаем значения от 1 до 31, виден пропуск данных с 15 по 20.\n",
    "3) dayweek - ожидаем значения от 1 до 7, все значения присутствуют\n",
    "4) hour - ожидаем значения от 0 до 23, все значения присутствуют\n",
    "5) src_ip_id - по некоторым ip адресам мало значений"
   ]
  },
  {
   "cell_type": "code",
   "execution_count": null,
   "metadata": {},
   "outputs": [],
   "source": [
    "sns.distplot(df[\"dst_cnt\"])"
   ]
  },
  {
   "cell_type": "code",
   "execution_count": null,
   "metadata": {},
   "outputs": [],
   "source": [
    "sns.distplot(df[\"daymonth\"])"
   ]
  },
  {
   "cell_type": "code",
   "execution_count": null,
   "metadata": {},
   "outputs": [],
   "source": [
    "sns.distplot(df[\"dayweek\"])"
   ]
  },
  {
   "cell_type": "code",
   "execution_count": null,
   "metadata": {},
   "outputs": [],
   "source": [
    "sns.distplot(df[\"hour\"])"
   ]
  },
  {
   "cell_type": "code",
   "execution_count": null,
   "metadata": {},
   "outputs": [],
   "source": [
    "sns.distplot(df[\"src_ip_id\"])"
   ]
  },
  {
   "attachments": {},
   "cell_type": "markdown",
   "metadata": {},
   "source": [
    "Посмотрим на количество подключений в течение месяца"
   ]
  },
  {
   "cell_type": "code",
   "execution_count": null,
   "metadata": {},
   "outputs": [],
   "source": [
    "sns.jointplot(x=\"src_ip_id\", y=\"dst_cnt\", data=df);"
   ]
  },
  {
   "cell_type": "code",
   "execution_count": null,
   "metadata": {},
   "outputs": [],
   "source": [
    "sns.jointplot(x=\"daymonth\", y=\"dst_cnt\", data=df);"
   ]
  },
  {
   "cell_type": "code",
   "execution_count": null,
   "metadata": {},
   "outputs": [],
   "source": [
    "sns.jointplot(x=\"dayweek\", y=\"dst_cnt\", data=df);"
   ]
  },
  {
   "cell_type": "code",
   "execution_count": null,
   "metadata": {},
   "outputs": [],
   "source": [
    "sns.jointplot(x=\"hour\", y=\"dst_cnt\", data=df);"
   ]
  },
  {
   "attachments": {},
   "cell_type": "markdown",
   "metadata": {},
   "source": [
    "Построим парные диаграммы по&nbsp;всем показателям по&nbsp;исходному набору данных:"
   ]
  },
  {
   "attachments": {},
   "cell_type": "markdown",
   "metadata": {},
   "source": [
    "Интерпретация\n",
    "1) также видны пропуски данных\n",
    "2) видны выбросы в количестве подключений по дням месяца, недели и часам, по src_ip"
   ]
  },
  {
   "cell_type": "code",
   "execution_count": null,
   "metadata": {},
   "outputs": [],
   "source": [
    "sns.pairplot(df, plot_kws=dict(linewidth=0));"
   ]
  },
  {
   "attachments": {},
   "cell_type": "markdown",
   "metadata": {},
   "source": [
    "## Информация о корреляции признаков"
   ]
  },
  {
   "attachments": {},
   "cell_type": "markdown",
   "metadata": {},
   "source": [
    "Построим корреляционную матрицу по всему набору данных:"
   ]
  },
  {
   "cell_type": "code",
   "execution_count": null,
   "metadata": {},
   "outputs": [],
   "source": [
    "df.corr()"
   ]
  },
  {
   "attachments": {},
   "cell_type": "markdown",
   "metadata": {},
   "source": [
    "Визуализируем корреляционную матрицу с&nbsp;помощью тепловой карты:"
   ]
  },
  {
   "cell_type": "markdown",
   "metadata": {},
   "source": [
    "Наибольшая зависимость (хотя и очень маленькая) между src_ip_id и dst_cnt"
   ]
  },
  {
   "cell_type": "code",
   "execution_count": null,
   "metadata": {},
   "outputs": [],
   "source": [
    "sns.heatmap(df.corr(), annot=True, fmt=\".2f\");"
   ]
  }
 ],
 "metadata": {
  "kernelspec": {
   "display_name": "Python 3 (ipykernel)",
   "language": "python",
   "name": "python3"
  },
  "orig_nbformat": 4,
  "vscode": {
   "interpreter": {
    "hash": "dffd128e80c7bb01bdf7b84cc82fe1475a928cbebc4f10631b6196ee83da3924"
   }
  }
 },
 "nbformat": 4,
 "nbformat_minor": 2
}
