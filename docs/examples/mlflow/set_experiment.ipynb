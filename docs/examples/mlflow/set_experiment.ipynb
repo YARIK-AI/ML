{
 "cells": [
  {
   "attachments": {},
   "cell_type": "markdown",
   "metadata": {},
   "source": [
    "# Пример создания эксперимента"
   ]
  },
  {
   "cell_type": "code",
   "execution_count": 19,
   "metadata": {},
   "outputs": [],
   "source": [
    "import mlflow\n",
    "import os"
   ]
  },
  {
   "cell_type": "code",
   "execution_count": 21,
   "metadata": {},
   "outputs": [
    {
     "name": "stdout",
     "output_type": "stream",
     "text": [
      "эксперимент существует: experiment1\n",
      "experiment_id:  2\n"
     ]
    }
   ],
   "source": [
    "experiment_name = 'experiment1'\n",
    "# указывается сервер\n",
    "mlflow.set_tracking_uri(os.environ[\"MLFLOW_URL\"])\n",
    "# создается клиентское соединение\n",
    "client = mlflow.MlflowClient()\n",
    "#проверяется наличие эксперимента\n",
    "current_experiment=mlflow.get_experiment_by_name(experiment_name)\n",
    "experiment_id = None\n",
    "if (current_experiment == None):\n",
    "    print(\"создается эксперимент: \"+experiment_name)\n",
    "    experiment_id = mlflow.create_experiment(experiment_name)\n",
    "else:\n",
    "    print(\"эксперимент существует: \"+experiment_name)\n",
    "    experiment_id = dict(current_experiment)['experiment_id']\n",
    "print('experiment_id: ',experiment_id)"
   ]
  }
 ],
 "metadata": {
  "kernelspec": {
   "display_name": "Python 3 (ipykernel)",
   "language": "python",
   "name": "python3"
  },
  "language_info": {
   "codemirror_mode": {
    "name": "ipython",
    "version": 3
   },
   "file_extension": ".py",
   "mimetype": "text/x-python",
   "name": "python",
   "nbconvert_exporter": "python",
   "pygments_lexer": "ipython3",
   "version": "3.11.4"
  },
  "orig_nbformat": 4
 },
 "nbformat": 4,
 "nbformat_minor": 2
}
