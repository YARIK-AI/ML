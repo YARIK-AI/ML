{
 "cells": [
  {
   "cell_type": "code",
   "execution_count": null,
   "metadata": {},
   "outputs": [],
   "source": [
    "# Пример вычислений в Trantool на lua"
   ]
  },
  {
   "cell_type": "code",
   "execution_count": null,
   "metadata": {},
   "outputs": [],
   "source": [
    "import tarantool\n",
    "import os"
   ]
  },
  {
   "cell_type": "code",
   "execution_count": null,
   "metadata": {},
   "outputs": [],
   "source": [
    "# подключение к БД Tarantool\n",
    "HOST=os.environ['TARANTOOL_HOST']\n",
    "PORT=os.environ['TARANTOOL_PORT']\n",
    "LOGIN=os.environ['TARANTOOL_LOGIN']\n",
    "PASSWORD=os.environ['TARANTOOL_PASSWORD']\n",
    "\n",
    "connection = tarantool.connect(host = HOST, port=int(PORT), user=LOGIN, password=PASSWORD)"
   ]
  },
  {
   "cell_type": "code",
   "execution_count": null,
   "metadata": {},
   "outputs": [],
   "source": [
    "\n",
    "lua_code = r\"\"\"\n",
    "    local a, b = ...\n",
    "    return a + b\n",
    "\"\"\"\n",
    "val1 = connection.eval(lua_code, (1, 2))\n",
    "val1.data\n"
   ]
  },
  {
   "cell_type": "code",
   "execution_count": null,
   "metadata": {},
   "outputs": [],
   "source": [
    "connection.close()"
   ]
  }
 ],
 "metadata": {
  "kernelspec": {
   "display_name": "Python 3 (ipykernel)",
   "language": "python",
   "name": "python3"
  },
  "orig_nbformat": 4
 },
 "nbformat": 4,
 "nbformat_minor": 2
}
