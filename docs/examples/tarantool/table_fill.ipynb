{
 "cells": [
  {
   "cell_type": "code",
   "execution_count": null,
   "metadata": {},
   "outputs": [],
   "source": [
    "# Пример заполнения таблицы БД Tarantool"
   ]
  },
  {
   "cell_type": "code",
   "execution_count": null,
   "metadata": {},
   "outputs": [],
   "source": [
    "## Вариант использования библиотеки tarantool"
   ]
  },
  {
   "cell_type": "code",
   "execution_count": null,
   "metadata": {},
   "outputs": [],
   "source": [
    "import tarantool\n",
    "import os"
   ]
  },
  {
   "cell_type": "code",
   "execution_count": null,
   "metadata": {},
   "outputs": [],
   "source": [
    "# подключение к БД Tarantool\n",
    "HOST=os.environ['TARANTOOL_HOST']\n",
    "PORT=os.environ['TARANTOOL_PORT']\n",
    "LOGIN=os.environ['TARANTOOL_LOGIN']\n",
    "PASSWORD=os.environ['TARANTOOL_PASSWORD']\n",
    "\n",
    "connection = tarantool.connect(host = HOST, port=int(PORT), user=LOGIN, password=PASSWORD)"
   ]
  },
  {
   "cell_type": "code",
   "execution_count": null,
   "metadata": {},
   "outputs": [],
   "source": [
    "# имя таблицы \n",
    "tableName = 'table1'"
   ]
  },
  {
   "attachments": {},
   "cell_type": "markdown",
   "metadata": {},
   "source": [
    "# Пример 1"
   ]
  },
  {
   "cell_type": "code",
   "execution_count": null,
   "metadata": {},
   "outputs": [],
   "source": [
    "values= [\n",
    "        (1,1.0,'1'),\n",
    "        (2,2.0,'2'),\n",
    "        (3,3.0,'3')\n",
    "    ]"
   ]
  },
  {
   "cell_type": "code",
   "execution_count": null,
   "metadata": {},
   "outputs": [],
   "source": [
    "#имя таблицы всегда в верхнем регистре\n",
    "tableName = tableName.upper()\n",
    "#sys.stdout = open(os.devnull, 'w') #отключение stdout\n",
    "for val in values:\n",
    "    connection.insert(tableName, val)\n",
    "#sys.stdout = sys.__stdout__ #включение stdout"
   ]
  },
  {
   "attachments": {},
   "cell_type": "markdown",
   "metadata": {},
   "source": [
    "# Пример 2"
   ]
  },
  {
   "cell_type": "code",
   "execution_count": null,
   "metadata": {},
   "outputs": [],
   "source": [
    "values= [\n",
    "        (4,4.0,'4'),\n",
    "        (5,5.0,'5'),\n",
    "        (6,6.0,'6')\n",
    "    ]"
   ]
  },
  {
   "cell_type": "code",
   "execution_count": null,
   "metadata": {},
   "outputs": [],
   "source": [
    "insertSQL = f'''insert into {tableName} \n",
    "    (\n",
    "        c1, \n",
    "        c2,\n",
    "        c3\n",
    "    )\n",
    "values \n",
    "    (\n",
    "        :c1,\n",
    "        :c2,\n",
    "        :c3\n",
    "    )\n",
    "'''\n",
    "for val in values:\n",
    "    connection.execute(insertSQL, {'c1': val[0], 'c2': val[1], 'c3': val[2]})"
   ]
  },
  {
   "attachments": {},
   "cell_type": "markdown",
   "metadata": {},
   "source": [
    "# Пример 3"
   ]
  },
  {
   "cell_type": "code",
   "execution_count": null,
   "metadata": {},
   "outputs": [],
   "source": [
    "import pandas\n",
    "\n",
    "values = {'c1': [7, 8, 9], 'c2': [7.0, 8.0, 9.0], 'c3':['7', '8', '9']}\n",
    "df = pandas.DataFrame( values)\n",
    "data = df.to_dict(orient='index')\n",
    "for key in data:\n",
    "    print(data[key])\n",
    "    connection.execute(insertSQL, data[key])"
   ]
  },
  {
   "cell_type": "code",
   "execution_count": null,
   "metadata": {},
   "outputs": [],
   "source": [
    "connection.close()"
   ]
  },
  {
   "attachments": {},
   "cell_type": "markdown",
   "metadata": {},
   "source": [
    "## Заполенение средствами spark\n",
    "\n",
    "Используется на больших объемах данных."
   ]
  },
  {
   "cell_type": "code",
   "execution_count": null,
   "metadata": {},
   "outputs": [],
   "source": [
    "import pyspark\n",
    "from pyspark.sql import SparkSession\n",
    "from pyspark.sql.types import StructType,StructField, LongType, StringType, IntegerType, DateType, TimestampType, FloatType\n",
    "from pyspark.sql.functions import col, cast, date_trunc, sum, dayofweek, hour, dayofmonth, lit\n"
   ]
  },
  {
   "cell_type": "code",
   "execution_count": null,
   "metadata": {},
   "outputs": [],
   "source": [
    "# запуск spark\n",
    "spark = SparkSession.builder.appName('fill').getOrCreate()"
   ]
  },
  {
   "cell_type": "code",
   "execution_count": null,
   "metadata": {},
   "outputs": [],
   "source": [
    "# подключение к БД Tarantool\n",
    "HOST=os.environ['TARANTOOL_HOST']\n",
    "PORT=os.environ['TARANTOOL_PORT']\n",
    "LOGIN=os.environ['TARANTOOL_LOGIN']\n",
    "PASSWORD=os.environ['TARANTOOL_PASSWORD']\n",
    "\n",
    "jdbcURLTarantool = f'jdbc:tarantool://{HOST}:{PORT}?user={LOGIN}&password={PASSWORD}'"
   ]
  },
  {
   "cell_type": "code",
   "execution_count": null,
   "metadata": {},
   "outputs": [],
   "source": [
    "# формирование dataframe\n",
    "values= [\n",
    "        (10,10.0,'10'),\n",
    "        (11,11.0,'11'),\n",
    "        (12,12.0,'12')\n",
    "    ]\n",
    "\n",
    "schemaData = StructType([ \\\n",
    "    StructField(\"c1\",IntegerType(),True), \n",
    "    StructField(\"c2\",FloatType(),True), \n",
    "    StructField(\"c3\",StringType(),True)\n",
    "  ])\n",
    "\n",
    "df = spark.createDataFrame(values,schema=schemaData)"
   ]
  },
  {
   "cell_type": "code",
   "execution_count": null,
   "metadata": {},
   "outputs": [],
   "source": [
    "df.write.format(\"jdbc\").mode(\"append\") \\\n",
    "              .option('url', jdbcURLTarantool) \\\n",
    "              .option('driver', 'org.tarantool.jdbc.SQLDriver') \\\n",
    "              .option(\"dbtable\",tableName).save()"
   ]
  },
  {
   "cell_type": "code",
   "execution_count": null,
   "metadata": {},
   "outputs": [],
   "source": [
    "spark.stop()"
   ]
  }
 ],
 "metadata": {
  "kernelspec": {
   "display_name": "Python 3 (ipykernel)",
   "language": "python",
   "name": "python3"
  },
  "language_info": {
   "codemirror_mode": {
    "name": "ipython",
    "version": 3
   },
   "file_extension": ".py",
   "mimetype": "text/x-python",
   "name": "python",
   "nbconvert_exporter": "python",
   "pygments_lexer": "ipython3",
   "version": "3.11.4"
  },
  "orig_nbformat": 4
 },
 "nbformat": 4,
 "nbformat_minor": 2
}
