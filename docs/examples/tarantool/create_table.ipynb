{
 "cells": [
  {
   "attachments": {},
   "cell_type": "markdown",
   "metadata": {},
   "source": [
    "# Создание таблицы в БД Tarantool"
   ]
  },
  {
   "cell_type": "code",
   "execution_count": 4,
   "metadata": {},
   "outputs": [],
   "source": [
    "import tarantool\n",
    "import os"
   ]
  },
  {
   "cell_type": "code",
   "execution_count": 5,
   "metadata": {},
   "outputs": [],
   "source": [
    "# подключение к БД Tarantool\n",
    "HOST=os.environ['TARANTOOL_HOST']\n",
    "PORT=os.environ['TARANTOOL_PORT']\n",
    "LOGIN=os.environ['TARANTOOL_LOGIN']\n",
    "PASSWORD=os.environ['TARANTOOL_PASSWORD']\n",
    "\n",
    "connection = tarantool.connect(host = HOST, port=int(PORT), user=LOGIN, password=PASSWORD)"
   ]
  },
  {
   "cell_type": "code",
   "execution_count": 6,
   "metadata": {},
   "outputs": [],
   "source": [
    "# имя таблицы \n",
    "tableName = 'table1'"
   ]
  },
  {
   "cell_type": "code",
   "execution_count": 7,
   "metadata": {},
   "outputs": [
    {
     "name": "stdout",
     "output_type": "stream",
     "text": [
      "проверяется таблица: table1\n",
      "False\n",
      "таблица не существует\n",
      "таблица создана\n"
     ]
    }
   ],
   "source": [
    "print('проверяется таблица: ' + tableName)\n",
    "rst = connection.execute(f\"\"\"SELECT EXISTS (select true from \"_space\" where \"name\" = '{tableName}')\"\"\")\n",
    "tableExist = rst[0][0]\n",
    "print(tableExist)\n",
    "if tableExist: \n",
    "    print('таблица существует')\n",
    "else: \n",
    "    print('таблица не существует')\n",
    "if not tableExist: \n",
    "    sqlCreateTable = f\"\"\"create table {tableName} \n",
    "    (      c1 integer,\n",
    "           c2 number,\n",
    "           c3 string,\n",
    "           primary key (c1) )\"\"\"    \n",
    "    connection.execute(sqlCreateTable)\n",
    "    print('таблица создана')\n"
   ]
  },
  {
   "cell_type": "code",
   "execution_count": 8,
   "metadata": {},
   "outputs": [],
   "source": [
    "# закрытие соединения\n",
    "connection.close()"
   ]
  }
 ],
 "metadata": {
  "kernelspec": {
   "display_name": "Python 3 (ipykernel)",
   "language": "python",
   "name": "python3"
  },
  "language_info": {
   "codemirror_mode": {
    "name": "ipython",
    "version": 3
   },
   "file_extension": ".py",
   "mimetype": "text/x-python",
   "name": "python",
   "nbconvert_exporter": "python",
   "pygments_lexer": "ipython3",
   "version": "3.11.4"
  },
  "orig_nbformat": 4
 },
 "nbformat": 4,
 "nbformat_minor": 2
}
