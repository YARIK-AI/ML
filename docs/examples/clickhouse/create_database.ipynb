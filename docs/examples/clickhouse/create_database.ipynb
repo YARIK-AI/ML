{
 "cells": [
  {
   "attachments": {},
   "cell_type": "markdown",
   "metadata": {},
   "source": [
    "Пример создания базы данных"
   ]
  },
  {
   "attachments": {},
   "cell_type": "markdown",
   "metadata": {},
   "source": [
    "Перед тем как выполнить пример запустите компонент clickhouse."
   ]
  },
  {
   "cell_type": "code",
   "execution_count": null,
   "metadata": {},
   "outputs": [],
   "source": [
    "import clickhouse_connect\n",
    "import os"
   ]
  },
  {
   "cell_type": "code",
   "execution_count": null,
   "metadata": {},
   "outputs": [],
   "source": [
    "# подключение к системной базе данных\n",
    "HOST=os.environ['CLICKHOUSE_HOST']\n",
    "PORT=os.environ['CLICKHOUSE_PORT']\n",
    "DATABASE='default'\n",
    "LOGIN=os.environ['CLICKHOUSE_LOGIN']\n",
    "PASSWORD=os.environ['CLICKHOUSE_PASSWORD']\n"
   ]
  },
  {
   "cell_type": "code",
   "execution_count": null,
   "metadata": {},
   "outputs": [],
   "source": [
    "# имя новой базы данных\n",
    "database_name = os.environ['CLICKHOUSE_DATABASE']"
   ]
  },
  {
   "cell_type": "code",
   "execution_count": null,
   "metadata": {},
   "outputs": [],
   "source": [
    "connection = clickhouse_connect.get_client(host=HOST, \n",
    "                                    port=int(PORT), \n",
    "                                    database = \"default\",\n",
    "                                    username=LOGIN, \n",
    "                                    password=PASSWORD,\n",
    "                                    send_receive_timeout=12000,\n",
    "                                    query_limit=0)    "
   ]
  },
  {
   "cell_type": "code",
   "execution_count": null,
   "metadata": {},
   "outputs": [],
   "source": [
    "sql = f\"\"\"\n",
    "create database if not exists {database_name}\n",
    "\"\"\"\n",
    "print(sql)\n",
    "result = connection.command(sql)    "
   ]
  },
  {
   "cell_type": "code",
   "execution_count": null,
   "metadata": {},
   "outputs": [],
   "source": [
    "connection.close()"
   ]
  }
 ],
 "metadata": {
  "kernelspec": {
   "display_name": "Python 3 (ipykernel)",
   "language": "python",
   "name": "python3"
  },
  "orig_nbformat": 4
 },
 "nbformat": 4,
 "nbformat_minor": 2
}
