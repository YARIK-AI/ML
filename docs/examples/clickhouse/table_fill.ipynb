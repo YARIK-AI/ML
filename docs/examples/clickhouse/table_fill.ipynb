{
 "cells": [
  {
   "cell_type": "markdown",
   "metadata": {},
   "source": [
    "# Примеры заполнения таблицы"
   ]
  },
  {
   "cell_type": "markdown",
   "metadata": {},
   "source": [
    "## Заполенение средствами clickhouse_connect\n",
    "\n",
    "Способ используется при небольших объемах данных. "
   ]
  },
  {
   "cell_type": "code",
   "execution_count": null,
   "metadata": {},
   "outputs": [],
   "source": [
    "import clickhouse_connect\n",
    "import os"
   ]
  },
  {
   "cell_type": "code",
   "execution_count": null,
   "metadata": {},
   "outputs": [],
   "source": [
    "# подключение к системной базе данных\n",
    "HOST=os.environ['CLICKHOUSE_HOST']\n",
    "PORT=os.environ['CLICKHOUSE_PORT']\n",
    "DATABASE=os.environ['CLICKHOUSE_DATABASE']\n",
    "LOGIN=os.environ['CLICKHOUSE_LOGIN']\n",
    "PASSWORD=os.environ['CLICKHOUSE_PASSWORD']"
   ]
  },
  {
   "cell_type": "code",
   "execution_count": null,
   "metadata": {},
   "outputs": [],
   "source": [
    "connection = clickhouse_connect.get_client(host=HOST, \n",
    "                                    port=int(PORT), \n",
    "                                    database = DATABASE,\n",
    "                                    username=LOGIN, \n",
    "                                    password=PASSWORD,\n",
    "                                    send_receive_timeout=12000,\n",
    "                                    query_limit=0)    "
   ]
  },
  {
   "cell_type": "code",
   "execution_count": null,
   "metadata": {},
   "outputs": [],
   "source": [
    "# имя таблицы созданной в предыдущих примерах\n",
    "tableName = 'table1'"
   ]
  },
  {
   "cell_type": "code",
   "execution_count": null,
   "metadata": {},
   "outputs": [],
   "source": [
    "sql = f\"\"\"\n",
    "    insert into {DATABASE}.{tableName} (c1, c2, c3) values (1,1.0,'1')\n",
    "\"\"\"\n",
    "print(sql)\n",
    "result = connection.command(sql)   "
   ]
  },
  {
   "cell_type": "code",
   "execution_count": null,
   "metadata": {},
   "outputs": [],
   "source": [
    "connection.close()"
   ]
  },
  {
   "cell_type": "code",
   "execution_count": null,
   "metadata": {},
   "outputs": [],
   "source": [
    "# проверка записанных данных\n",
    "connection = clickhouse_connect.get_client(host=HOST, \n",
    "                                    port=int(PORT), \n",
    "                                    database = DATABASE,\n",
    "                                    username=LOGIN, \n",
    "                                    password=PASSWORD,\n",
    "                                    send_receive_timeout=12000,\n",
    "                                    query_limit=0) \n",
    "sql = f\"\"\"\n",
    "     select * FROM {DATABASE}.{tableName}\n",
    "\"\"\"\n",
    "print(sql)\n",
    "result = connection.command(sql)\n",
    "print(result)\n",
    "connection.close()"
   ]
  },
  {
   "cell_type": "markdown",
   "metadata": {},
   "source": [
    "## Заполенение средствами spark\n",
    "\n",
    "Используется на больших объемах данных."
   ]
  },
  {
   "cell_type": "code",
   "execution_count": null,
   "metadata": {},
   "outputs": [],
   "source": [
    "import pyspark\n",
    "from pyspark.sql import SparkSession\n",
    "from pyspark.sql.types import StructType,StructField, LongType, StringType, IntegerType, DateType, TimestampType, FloatType\n",
    "from pyspark.sql.functions import col, cast, date_trunc, sum, dayofweek, hour, dayofmonth, lit\n"
   ]
  },
  {
   "cell_type": "code",
   "execution_count": null,
   "metadata": {},
   "outputs": [],
   "source": [
    "# запуск spark\n",
    "spark = SparkSession.builder.appName('fill').getOrCreate()"
   ]
  },
  {
   "cell_type": "code",
   "execution_count": null,
   "metadata": {},
   "outputs": [],
   "source": [
    "jdbcURLClickhouse = f'jdbc:clickhouse://{HOST}:{PORT}/{DATABASE}'"
   ]
  },
  {
   "cell_type": "code",
   "execution_count": null,
   "metadata": {},
   "outputs": [],
   "source": [
    "# формирование dataframe\n",
    "values= [\n",
    "        (4,4.0,'4'),\n",
    "        (5,5.0,'5'),\n",
    "        (6,6.0,'6')\n",
    "    ]\n",
    "\n",
    "schemaData = StructType([ \\\n",
    "    StructField(\"c1\",IntegerType(),True), \n",
    "    StructField(\"c2\",FloatType(),True), \n",
    "    StructField(\"c3\",StringType(),True)\n",
    "  ])\n",
    "\n",
    "df = spark.createDataFrame(values,schema=schemaData)\n",
    "df.show(3,False)"
   ]
  },
  {
   "cell_type": "code",
   "execution_count": null,
   "metadata": {},
   "outputs": [],
   "source": [
    "# запись в таблицу\n",
    "df.write.format(\"jdbc\").mode(\"append\") \\\n",
    "              .option('url', jdbcURLClickhouse) \\\n",
    "              .option('driver', 'com.clickhouse.jdbc.ClickHouseDriver') \\\n",
    "              .option('user',LOGIN) \\\n",
    "              .option('password',PASSWORD) \\\n",
    "              .option(\"dbtable\",DATABASE+'.'+tableName).save()"
   ]
  },
  {
   "cell_type": "code",
   "execution_count": null,
   "metadata": {},
   "outputs": [],
   "source": [
    "# чтение из таблицы\n",
    "query=f'''\n",
    "SELECT  *\n",
    "FROM {DATABASE}.{tableName}\n",
    "'''\n",
    "df1 = spark.read.format(\"jdbc\") \\\n",
    "              .option('url', jdbcURLClickhouse) \\\n",
    "              .option('driver', 'com.clickhouse.jdbc.ClickHouseDriver') \\\n",
    "              .option('user',LOGIN) \\\n",
    "              .option('password',PASSWORD) \\\n",
    "              .option('query',query).load()\n",
    "df1.show()"
   ]
  },
  {
   "cell_type": "code",
   "execution_count": null,
   "metadata": {},
   "outputs": [],
   "source": [
    "spark.stop()"
   ]
  }
 ],
 "metadata": {
  "kernelspec": {
   "display_name": "Python 3 (ipykernel)",
   "language": "python",
   "name": "python3"
  },
  "language_info": {
   "codemirror_mode": {
    "name": "ipython",
    "version": 3
   },
   "file_extension": ".py",
   "mimetype": "text/x-python",
   "name": "python",
   "nbconvert_exporter": "python",
   "pygments_lexer": "ipython3",
   "version": "3.11.4"
  },
  "orig_nbformat": 4
 },
 "nbformat": 4,
 "nbformat_minor": 2
}
