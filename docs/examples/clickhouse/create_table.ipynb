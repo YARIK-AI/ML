{
 "cells": [
  {
   "cell_type": "markdown",
   "metadata": {},
   "source": [
    "Пример создания таблицы"
   ]
  },
  {
   "cell_type": "code",
   "execution_count": null,
   "metadata": {},
   "outputs": [],
   "source": [
    "import clickhouse_connect\n",
    "import os"
   ]
  },
  {
   "cell_type": "code",
   "execution_count": null,
   "metadata": {},
   "outputs": [],
   "source": [
    "# подключение к системной базе данных\n",
    "HOST=os.environ['CLICKHOUSE_HOST']\n",
    "PORT=os.environ['CLICKHOUSE_PORT']\n",
    "DATABASE=os.environ['CLICKHOUSE_DATABASE']\n",
    "LOGIN=os.environ['CLICKHOUSE_LOGIN']\n",
    "PASSWORD=os.environ['CLICKHOUSE_PASSWORD']"
   ]
  },
  {
   "cell_type": "code",
   "execution_count": null,
   "metadata": {},
   "outputs": [],
   "source": [
    "connection = clickhouse_connect.get_client(host=HOST, \n",
    "                                    port=int(PORT), \n",
    "                                    database = DATABASE,\n",
    "                                    username=LOGIN, \n",
    "                                    password=PASSWORD,\n",
    "                                    send_receive_timeout=12000,\n",
    "                                    query_limit=0)   "
   ]
  },
  {
   "cell_type": "code",
   "execution_count": null,
   "metadata": {},
   "outputs": [],
   "source": [
    "# создание таблицы\n",
    "tableName = 'table1'\n",
    "sql = f\"\"\"\n",
    "create table {DATABASE}.{tableName}\n",
    "(\n",
    "     c1 int,\n",
    "     c2 float,\n",
    "     c3 varchar\n",
    ")\n",
    "ENGINE = MergeTree\n",
    "ORDER BY tuple()     \n",
    "\"\"\"\n",
    "print(sql)\n",
    "result = connection.command(sql)    "
   ]
  },
  {
   "cell_type": "code",
   "execution_count": null,
   "metadata": {},
   "outputs": [],
   "source": [
    "connection.close()"
   ]
  }
 ],
 "metadata": {
  "kernelspec": {
   "display_name": "Python 3 (ipykernel)",
   "language": "python",
   "name": "python3"
  },
  "language_info": {
   "codemirror_mode": {
    "name": "ipython",
    "version": 3
   },
   "file_extension": ".py",
   "mimetype": "text/x-python",
   "name": "python",
   "nbconvert_exporter": "python",
   "pygments_lexer": "ipython3",
   "version": "3.11.4"
  },
  "orig_nbformat": 4
 },
 "nbformat": 4,
 "nbformat_minor": 2
}
