{
 "cells": [
  {
   "cell_type": "markdown",
   "metadata": {},
   "source": [
    "# Генератор тестовых данных"
   ]
  },
  {
   "cell_type": "markdown",
   "metadata": {},
   "source": [
    "Пример генератора тестовых данных на остове функции sin. В примере создаются два набора данных с разными аплитудами. Амплитуда на участке для обучения меньше чем на участке для проверки модели. Также на основе данных строится временной ряд."
   ]
  },
  {
   "cell_type": "markdown",
   "metadata": {},
   "source": [
    "## Генерация данных"
   ]
  },
  {
   "cell_type": "code",
   "execution_count": null,
   "metadata": {},
   "outputs": [],
   "source": [
    "import numpy\n",
    "import random\n",
    "\n",
    "#№Date and time (GMT): Sunday, 1 January 2023 г., 0:00:00\n",
    "#Date and time (your time zone): воскресенье, 1 января 2023 г., 3:00:00 GMT+03:00\n",
    "start  = 1672531200\n",
    "\n",
    "#точки по оси X с периодичностью 1 час (3600 секунд)\n",
    "period = 3600 \n",
    "# количество точек по оси X для одного отрезка\n",
    "period_count = 20\n",
    "#амплитуда периодичной функции\n",
    "amplitude_train = 10\n",
    "amplitude_predict = amplitude_train * 1.5\n",
    "#сдвиг по оси Y вверх\n",
    "shift = 15\n",
    "# усилитель шума\n",
    "amplifier = 1.5\n",
    "\n",
    "# отрезок первый, данные для ОБУЧЕНИЯ\n",
    "train_x = numpy.arange(start,start+period*period_count,period) \n",
    "# генерация шума\n",
    "noise = numpy.random.normal(0, 1, len(train_x))*amplifier\n",
    "# добавления шума к функции sin\n",
    "train_y = (amplitude_train*numpy.sin(train_x/period) + shift) +  noise  \n",
    "\n",
    "# отрезок второй, данные для ПРЕДСКАЗАНИЯ\n",
    "predict_x = numpy.arange(start+period*period_count, # начало после отрезка X1\n",
    "                           (start+period*period_count)+period*period_count, \n",
    "                           period) \n",
    "# генерация шума\n",
    "noise = numpy.random.normal(0, 1, len(predict_x))*amplifier\n",
    "# добавления шума к произвольной функции\n",
    "predict_y = (amplitude_predict*numpy.sin(predict_x/period) + shift) +  noise  "
   ]
  },
  {
   "cell_type": "code",
   "execution_count": null,
   "metadata": {},
   "outputs": [],
   "source": [
    "# график двух отрезков, разными цветами\n",
    "import matplotlib.pyplot as plt\n",
    "fig, axs = plt.subplots(1)\n",
    "axs.plot(train_x,train_y, 'o', color=\"black\", markersize=1)\n",
    "axs.plot(predict_x,predict_y, 'o', color=\"red\", markersize=1)\n",
    "fig.set_figwidth(12)\n",
    "plt.show()\n",
    "plt.close(\"all\")"
   ]
  },
  {
   "cell_type": "markdown",
   "metadata": {},
   "source": [
    "## Формирование parquet"
   ]
  },
  {
   "cell_type": "code",
   "execution_count": null,
   "metadata": {},
   "outputs": [],
   "source": [
    "# обхединение X и Y в матрицу\n",
    "data = numpy.concatenate(( train_x.reshape(len(train_x),1), train_y.reshape(len(train_y),1) ), axis=1)\n",
    "data"
   ]
  },
  {
   "cell_type": "code",
   "execution_count": null,
   "metadata": {},
   "outputs": [],
   "source": [
    "import pyspark\n",
    "from pyspark.sql import SparkSession\n",
    "from pyspark.sql.types import StructType,StructField, LongType, StringType, IntegerType, DateType, TimestampType, FloatType, BooleanType\n",
    "from pyspark.sql.functions import col, cast, date_trunc, sum, dayofweek, hour, dayofmonth, lit, sequence\n",
    "\n",
    "import random\n",
    "\n",
    "# запуск spark\n",
    "spark = SparkSession.builder.appName('parquet').getOrCreate()\n"
   ]
  },
  {
   "cell_type": "code",
   "execution_count": null,
   "metadata": {},
   "outputs": [],
   "source": [
    "# формирование датафрейма\n",
    "df = spark.createDataFrame(data, [\"x\", \"y\"])\n",
    "df.show()"
   ]
  },
  {
   "cell_type": "code",
   "execution_count": null,
   "metadata": {},
   "outputs": [],
   "source": [
    "# формирование временно'го ряда\n",
    "tsDF =  df.select(col(\"x\").cast(\"timestamp\").alias(\"xtime\"), col(\"y\") )\n",
    "tsDF.show()"
   ]
  },
  {
   "cell_type": "code",
   "execution_count": null,
   "metadata": {},
   "outputs": [],
   "source": [
    "localPathParquet = \"/tmp/singleparquet\"\n",
    "fileCount = 1 # число файлов\n",
    "tsDF.coalesce(1).write.mode(\"overwrite\").parquet(localPathParquet)"
   ]
  },
  {
   "cell_type": "code",
   "execution_count": null,
   "metadata": {},
   "outputs": [],
   "source": [
    "spark.stop()"
   ]
  },
  {
   "cell_type": "code",
   "execution_count": null,
   "metadata": {},
   "outputs": [],
   "source": [
    "# полученный набор данных (dataset) можно закинуть на S3\n",
    "import os\n",
    "import boto3\n",
    "\n",
    "# имя файла в s3\n",
    "filePathParquet = \"train.parquet\"\n",
    "# имя корзины в s3\n",
    "bucketNameParquet = 'data'\n",
    "\n",
    "s3_target = boto3.resource('s3', \n",
    "    endpoint_url=os.environ[\"AWS_ENDPOINT_URL\"],\n",
    "    aws_access_key_id=os.environ[\"AWS_ACCESS_KEY_ID\"],\n",
    "    aws_secret_access_key=os.environ[\"AWS_SECRET_ACCESS_KEY\"],\n",
    "    aws_session_token=None,\n",
    "    config=boto3.session.Config(signature_version='s3v4'),\n",
    "    verify=False\n",
    ")\n",
    "\n",
    "# создание корзины\n",
    "bucket = s3_target.Bucket(bucketNameParquet)\n",
    "if bucket.creation_date:\n",
    "   print(\"The bucket exists\")\n",
    "else:\n",
    "   print(\"The bucket does not exist\")\n",
    "   s3_target.create_bucket(Bucket=bucketNameParquet)\n",
    "\n",
    "# загрузка файла на s3 \n",
    "# в локальной папке находится единственный файл и закидывается на S3\n",
    "print(\"старт записи в s3\")\n",
    "fileNameParquetLocal = [x for x in os.listdir(localPathParquet) if x.endswith(\".parquet\")][0]\n",
    "print('write to s3', 'backet='+bucketNameParquet, 'path='+filePathParquet)\n",
    "s3_target.Bucket(bucketNameParquet).upload_file(localPathParquet+'/'+fileNameParquetLocal, filePathParquet)"
   ]
  },
  {
   "cell_type": "markdown",
   "metadata": {},
   "source": [
    "Аналогичным образом делается parquet файл данных для предсказания."
   ]
  }
 ],
 "metadata": {
  "kernelspec": {
   "display_name": "Python 3 (ipykernel)",
   "language": "python",
   "name": "python3"
  },
  "language_info": {
   "codemirror_mode": {
    "name": "ipython",
    "version": 3
   },
   "file_extension": ".py",
   "mimetype": "text/x-python",
   "name": "python",
   "nbconvert_exporter": "python",
   "pygments_lexer": "ipython3",
   "version": "3.11.4"
  },
  "orig_nbformat": 4
 },
 "nbformat": 4,
 "nbformat_minor": 2
}
